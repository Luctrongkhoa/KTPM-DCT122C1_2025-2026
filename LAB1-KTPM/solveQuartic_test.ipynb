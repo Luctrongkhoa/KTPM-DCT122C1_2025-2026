{
 "cells": [
  {
   "cell_type": "code",
   "execution_count": 5,
   "metadata": {},
   "outputs": [
    {
     "name": "stdout",
     "output_type": "stream",
     "text": [
      "C++ file exists: True\n",
      "Contents (first 10 lines):\n",
      "\\\n",
      "#include <iostream>\n",
      "#include <cmath>\n",
      "#include <vector>\n",
      "#include <iomanip>\n",
      "using namespace std;\n",
      "\n",
      "int solveQuartic(double a, double b, double c, double x[]) {\n",
      "    if (a == 0 && b == 0 && c == 0) {\n",
      "        return -1;\n",
      "    }\n",
      "    if (a == 0 && b == 0) {\n",
      "        return 0;\n",
      "    }\n",
      "    if (a == 0) {\n",
      "        double y = -c / b;\n",
      "        if (y < 0) return 0;\n",
      "        x[0] = sqrt(y);\n",
      "        x[1] = -sqrt(y);\n",
      "        return 2;\n",
      "    }\n",
      "    double delta = b * b - 4 * a * c;\n",
      "    if (delta < 0) return 0;\n",
      "    double y1 = (-b + sqrt(delta)) / (2 * a);\n",
      "    double y2 = (-b - sqrt(delta)) / (2 * a);\n",
      "    int count = 0;\n",
      "    if (y1 >= 0) {\n",
      "        x[count++] = sqrt(y1);\n",
      "        x[count++] = -sqrt(y1);\n",
      "    }\n"
     ]
    }
   ],
   "source": [
    "from pathlib import Path\n",
    "p = Path(\"solveQuartic_test.cpp\")\n",
    "print('C++ file exists:', p.exists())\n",
    "print('Contents (first 10 lines):')\n",
    "print('\\n'.join(p.read_text().splitlines()[:30]))\n"
   ]
  },
  {
   "cell_type": "code",
   "execution_count": 6,
   "metadata": {},
   "outputs": [
    {
     "name": "stdout",
     "output_type": "stream",
     "text": [
      "Compiling...\n",
      "returncode 0\n",
      "Running...\n",
      "Test 1: a=0.00000000 b=0.00000000 c=0.00000000 | expected_n=-1 | reported_n=-1 | note: all zero -> infinite\n",
      "   reported roots: \n",
      "   -> OK (satisfies polynomial and expected count)\n",
      "-----------------------------------------------------------\n",
      "Test 2: a=0.00000000 b=0.00000000 c=1.00000000 | expected_n=0 | reported_n=0 | note: a=0,b=0,c!=0 -> no solution\n",
      "   reported roots: \n",
      "   -> OK (satisfies polynomial and expected count)\n",
      "-----------------------------------------------------------\n",
      "Test 3: a=0.00000000 b=1.00000000 c=-4.00000000 | expected_n=2 | reported_n=2 | note: linear in y -> y=4 -> x=+-2\n",
      "   reported roots: 2.00000000 -2.00000000 \n",
      "   -> OK (satisfies polynomial and expected count)\n",
      "-----------------------------------------------------------\n",
      "Test 4: a=0.00000000 b=1.00000000 c=4.00000000 | expected_n=0 | reported_n=0 | note: linear in y -> y=-4 -> no real x\n",
      "   reported roots: \n",
      "   -> OK (satisfies polynomial and expected count)\n",
      "-----------------------------------------------------------\n",
      "Test 5: a=1.00000000 b=0.00000000 c=1.00000000 | expected_n=0 | reported_n=0 | note: delta < 0 in y -> no real x\n",
      "   reported roots: \n",
      "   -> OK (satisfies polynomial and expected count)\n",
      "-----------------------------------------------------------\n",
      "Test 6: a=1.00000000 b=-5.00000000 c=4.00000000 | expected_n=4 | reported_n=4 | note: y roots 4 and 1 -> x=+-2,+-1\n",
      "   reported roots: 2.00000000 -2.00000000 1.00000000 -1.00000000 \n",
      "   -> OK (satisfies polynomial and expected count)\n",
      "-----------------------------------------------------------\n",
      "Test 7: a=1.00000000 b=-2.00000000 c=1.00000000 | expected_n=2 | reported_n=2 | note: double y root 1 -> x=+-1\n",
      "   reported roots: 1.00000000 -1.00000000 \n",
      "   -> OK (satisfies polynomial and expected count)\n",
      "-----------------------------------------------------------\n",
      "Test 8: a=1.00000000 b=0.00000000 c=-1.00000000 | expected_n=2 | reported_n=2 | note: y roots 1 and -1 -> only y=1 -> +-1\n",
      "   reported roots: 1.00000000 -1.00000000 \n",
      "   -> OK (satisfies polynomial and expected count)\n",
      "-----------------------------------------------------------\n",
      "Test 9: a=1.00000000 b=0.00000000 c=0.00000000 | expected_n=1 | reported_n=2 | note: y double root 0 -> mathematically x=0 unique (code returns two zeros) - test expects 1 to detect duplicate issue\n",
      "   reported roots: 0.00000000 -0.00000000 \n",
      "   -> FAIL (mismatch or root does not satisfy polynomial)\n",
      "-----------------------------------------------------------\n",
      "Summary: passed 8 / 9 tests (some tests intentionally highlight issues).\n",
      "\n"
     ]
    }
   ],
   "source": [
    "import subprocess, sys\n",
    "src = 'solveQuartic_test.cpp'\n",
    "exe = 'solveQuartic_test'\n",
    "print('Compiling...')\n",
    "ret = subprocess.run(['g++','-std=c++17',src,'-O2','-o',exe], stdout=subprocess.PIPE, stderr=subprocess.PIPE)\n",
    "print('returncode', ret.returncode)\n",
    "if ret.stderr:\n",
    "    print('g++ stderr:')\n",
    "    print(ret.stderr.decode())\n",
    "if ret.returncode == 0:\n",
    "    print('Running...')\n",
    "    run = subprocess.run([exe], stdout=subprocess.PIPE, stderr=subprocess.PIPE)\n",
    "    print(run.stdout.decode())\n",
    "    if run.stderr:\n",
    "        print('Runtime stderr:')\n",
    "        print(run.stderr.decode())\n"
   ]
  }
 ],
 "metadata": {
  "kernelspec": {
   "display_name": "Python 3",
   "language": "python",
   "name": "python3"
  },
  "language_info": {
   "codemirror_mode": {
    "name": "ipython",
    "version": 3
   },
   "file_extension": ".py",
   "mimetype": "text/x-python",
   "name": "python",
   "nbconvert_exporter": "python",
   "pygments_lexer": "ipython3",
   "version": "3.13.4"
  }
 },
 "nbformat": 4,
 "nbformat_minor": 5
}
